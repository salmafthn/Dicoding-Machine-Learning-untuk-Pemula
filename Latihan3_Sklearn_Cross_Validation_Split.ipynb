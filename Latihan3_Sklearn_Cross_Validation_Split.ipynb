{
  "nbformat": 4,
  "nbformat_minor": 0,
  "metadata": {
    "colab": {
      "provenance": []
    },
    "kernelspec": {
      "name": "python3",
      "display_name": "Python 3"
    }
  },
  "cells": [
    {
      "cell_type": "code",
      "metadata": {
        "id": "4c-FFv1xfZMj"
      },
      "source": [
        "import sklearn\n",
        "from sklearn import datasets\n",
        "\n",
        "iris = datasets.load_iris()"
      ],
      "execution_count": null,
      "outputs": []
    },
    {
      "cell_type": "code",
      "metadata": {
        "id": "O4BfrSX0gnAw"
      },
      "source": [
        "x=iris.data\n",
        "y=iris.target"
      ],
      "execution_count": null,
      "outputs": []
    },
    {
      "cell_type": "code",
      "metadata": {
        "id": "41CcVDOIgC8w"
      },
      "source": [
        "from sklearn.model_selection import cross_val_score\n",
        "from sklearn import tree\n",
        "\n",
        "clf = tree.DecisionTreeClassifier()"
      ],
      "execution_count": null,
      "outputs": []
    },
    {
      "cell_type": "code",
      "metadata": {
        "id": "gpWsdO5wgDlj",
        "outputId": "e7ff4143-380a-4218-faa7-257175192ea6",
        "colab": {
          "base_uri": "https://localhost:8080/",
          "height": 34
        }
      },
      "source": [
        "scores = cross_val_score(clf, x, y, cv=5)\n",
        "scores"
      ],
      "execution_count": null,
      "outputs": [
        {
          "output_type": "execute_result",
          "data": {
            "text/plain": [
              "array([0.96666667, 0.96666667, 0.9       , 0.93333333, 1.        ])"
            ]
          },
          "metadata": {
            "tags": []
          },
          "execution_count": 4
        }
      ]
    }
  ]
}